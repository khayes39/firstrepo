{
  "nbformat": 4,
  "nbformat_minor": 0,
  "metadata": {
    "colab": {
      "provenance": [],
      "include_colab_link": true
    },
    "kernelspec": {
      "name": "python3",
      "display_name": "Python 3"
    },
    "language_info": {
      "name": "python"
    }
  },
  "cells": [
    {
      "cell_type": "markdown",
      "metadata": {
        "id": "view-in-github",
        "colab_type": "text"
      },
      "source": [
        "<a href=\"https://colab.research.google.com/github/khayes39/firstrepo/blob/main/FinalProject_Classical.ipynb\" target=\"_parent\"><img src=\"https://colab.research.google.com/assets/colab-badge.svg\" alt=\"Open In Colab\"/></a>"
      ]
    },
    {
      "cell_type": "code",
      "execution_count": 3,
      "metadata": {
        "id": "anaUWahxSB40",
        "colab": {
          "base_uri": "https://localhost:8080/"
        },
        "outputId": "f3e207af-e2c9-44a5-f9aa-cb3df52a69f4"
      },
      "outputs": [
        {
          "output_type": "stream",
          "name": "stdout",
          "text": [
            "Drive already mounted at /content/drive; to attempt to forcibly remount, call drive.mount(\"/content/drive\", force_remount=True).\n",
            "(17996, 17)\n"
          ]
        }
      ],
      "source": [
        "import pandas as pd\n",
        "import numpy as np\n",
        "from sklearn.model_selection import train_test_split\n",
        "from sklearn.preprocessing import StandardScaler, MinMaxScaler\n",
        "from sklearn.linear_model import LinearRegression, LogisticRegression\n",
        "from sklearn.svm import SVC\n",
        "from sklearn.decomposition import PCA\n",
        "from sklearn.metrics import mean_squared_error, accuracy_score\n",
        "from google.colab import drive\n",
        "\n",
        "\n",
        "# Load data\n",
        "drive.mount('/content/drive')\n",
        "file_path = '/content/drive/My Drive/ML/Data_sets/train.csv'\n",
        "\n",
        "genres = pd.DataFrame(pd.read_csv(file_path))\n",
        "genres = genres.fillna(0)\n",
        "\n",
        "genres.head()\n",
        "print(genres.shape)"
      ]
    },
    {
      "cell_type": "code",
      "source": [
        "# Preprocess data\n",
        "#splitting the data into x and y\n",
        "x_vars = np.arange(2, 15, 1)\n",
        "X_vals = genres.iloc[:, x_vars].values\n",
        "Y_vals = genres.iloc[:, 16].values\n",
        "print(X_vals)\n",
        "\n",
        "# Standardize data\n",
        "scaler_std = StandardScaler()\n",
        "X_std = scaler_std.fit_transform(X_vals)\n",
        "print(X_std)\n"
      ],
      "metadata": {
        "id": "B85IomJcO5Vk",
        "outputId": "191b1cad-fae9-4113-a212-0170e5b2e84a",
        "colab": {
          "base_uri": "https://localhost:8080/"
        }
      },
      "execution_count": 9,
      "outputs": [
        {
          "output_type": "stream",
          "name": "stdout",
          "text": [
            "[[6.00000e+01 8.54000e-01 5.64000e-01 ... 8.99000e-01 1.34071e+02\n",
            "  2.34596e+05]\n",
            " [5.40000e+01 3.82000e-01 8.14000e-01 ... 5.69000e-01 1.16454e+02\n",
            "  2.51733e+05]\n",
            " [3.50000e+01 4.34000e-01 6.14000e-01 ... 7.87000e-01 1.47681e+02\n",
            "  1.09667e+05]\n",
            " ...\n",
            " [3.40000e+01 5.58000e-01 9.81000e-01 ... 2.62000e-01 1.05000e+02\n",
            "  2.16222e+05]\n",
            " [2.90000e+01 2.15000e-01 8.05000e-01 ... 3.55000e-01 1.31363e+02\n",
            "  2.19693e+05]\n",
            " [4.30000e+01 4.00000e-01 8.53000e-01 ... 3.77000e-01 1.38102e+02\n",
            "  1.82227e+05]]\n",
            "[[ 0.89413242  1.86791514 -0.41967148 ...  1.71861421  0.38712996\n",
            "   0.30228365]\n",
            " [ 0.56990729 -0.97094593  0.64250026 ...  0.34469378 -0.20862857\n",
            "   0.45531168]\n",
            " [-0.45680564 -0.65819005 -0.20723713 ...  1.25231394  0.84738275\n",
            "  -0.81329315]\n",
            " ...\n",
            " [-0.51084316  0.08761243  1.35203098 ... -0.93346857 -0.59597137\n",
            "   0.13820959]\n",
            " [-0.78103077 -1.97537347  0.60426208 ... -0.54627281  0.29555284\n",
            "   0.16920453]\n",
            " [-0.02450546 -0.86268428  0.80819905 ... -0.45467811  0.5234473\n",
            "  -0.1653551 ]]\n"
          ]
        }
      ]
    },
    {
      "cell_type": "code",
      "source": [
        "# Define features and target variable(s)\n",
        "\n",
        "\n",
        "\n",
        "# Normalize data\n",
        "# scaler_norm = MinMaxScaler()\n",
        "# X_normalized = scaler_norm.fit_transform(X)\n",
        "\n",
        "# Split data\n",
        "X_train, X_test, y_train, y_test = train_test_split(X_scaled, y, test_size=0.2, random_state=0)\n",
        "\n",
        "# Initialize models\n",
        "lr = LinearRegression()\n",
        "log_reg = LogisticRegression()\n",
        "svm = SVM(kernel='linear')\n",
        "pca = PCA(n_components=2) # Adjust number of components\n",
        "\n",
        "# Fit models\n",
        "lr.fit(X_train, y_train)\n",
        "log_reg.fit(X_train, y_train)\n",
        "svm.fit(X_train, y_train)\n",
        "X_train_pca = pca.fit_transform(X_train)\n",
        "X_test_pca = pca.transform(X_test)\n",
        "\n",
        "# Compare Models\n",
        "\n",
        "\n",
        "# Output\n",
        "\n"
      ],
      "metadata": {
        "id": "-2_eIyhRNN8E"
      },
      "execution_count": null,
      "outputs": []
    }
  ]
}